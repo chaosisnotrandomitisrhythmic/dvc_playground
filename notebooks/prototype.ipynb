{
 "cells": [
  {
   "cell_type": "code",
   "execution_count": 1,
   "metadata": {},
   "outputs": [
    {
     "name": "stdout",
     "output_type": "stream",
     "text": [
      "/home/ubuntu/projects/dvc/dvc_playground\n"
     ]
    }
   ],
   "source": [
    "# Set the repository root as a working directory \n",
    "%cd .."
   ]
  },
  {
   "cell_type": "code",
   "execution_count": 2,
   "metadata": {},
   "outputs": [
    {
     "data": {
      "text/plain": [
       "{'base': {'random_state': 42, 'log_level': 'INFO'},\n",
       " 'data_load': {'save_path': 'data/imdb/'}}"
      ]
     },
     "execution_count": 2,
     "metadata": {},
     "output_type": "execute_result"
    }
   ],
   "source": [
    "from src.utils.utils import load_config\n",
    "import pandas as pd\n",
    "\n",
    "\n",
    "config = load_config(\"params.yaml\")\n",
    "config"
   ]
  },
  {
   "cell_type": "code",
   "execution_count": 3,
   "id": "b6b5c399-bccf-4bed-9fbf-a47a9d968d42",
   "metadata": {},
   "outputs": [],
   "source": [
    "train_df = pd.read_pickle(f'{config[\"data_load\"][\"save_path\"]}train.pkl')\n",
    "test_df = pd.read_pickle(f'{config[\"data_load\"][\"save_path\"]}test.pkl')"
   ]
  },
  {
   "cell_type": "code",
   "execution_count": 4,
   "id": "987ad92d-6526-412a-a295-1d3793333e57",
   "metadata": {},
   "outputs": [],
   "source": [
    "def subsample(df: pd.DataFrame, n: int=500)->pd.DataFrame:\n",
    "    config = load_config(\"params.yaml\")\n",
    "    return df.sample(n=n, random_state=config[\"base\"][\"random_state\"])"
   ]
  },
  {
   "cell_type": "code",
   "execution_count": 5,
   "metadata": {},
   "outputs": [
    {
     "data": {
      "text/plain": [
       "(25000, 2)"
      ]
     },
     "execution_count": 5,
     "metadata": {},
     "output_type": "execute_result"
    }
   ],
   "source": [
    "train_df.shape"
   ]
  },
  {
   "cell_type": "code",
   "execution_count": null,
   "metadata": {},
   "outputs": [],
   "source": [
    "train_df = subsample(train_df)"
   ]
  }
 ],
 "metadata": {
  "kernelspec": {
   "display_name": "Python 3 (ipykernel)",
   "language": "python",
   "name": "python3"
  },
  "language_info": {
   "codemirror_mode": {
    "name": "ipython",
    "version": 3
   },
   "file_extension": ".py",
   "mimetype": "text/x-python",
   "name": "python",
   "nbconvert_exporter": "python",
   "pygments_lexer": "ipython3",
   "version": "3.9.0"
  }
 },
 "nbformat": 4,
 "nbformat_minor": 5
}
